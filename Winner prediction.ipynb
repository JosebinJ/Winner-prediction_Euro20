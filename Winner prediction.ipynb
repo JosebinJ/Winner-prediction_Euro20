{
 "cells": [
  {
   "cell_type": "code",
   "execution_count": 39,
   "metadata": {},
   "outputs": [],
   "source": [
    "import random as rnd\n",
    "class Team:\n",
    "    LUCK = 0.0  \n",
    "    def __init__(self, name, strength = None):\n",
    "        self.name = name\n",
    "        self.strength = strength if strength else rnd.uniform(0,1)\n",
    "    def __str__(self):\n",
    "        return self.name\n",
    "    def __repr__(self):\n",
    "        return self.name\n",
    "    def __lt__(self, t):\n",
    "        return self.strength < t.strength + rnd.gauss(0, Team.LUCK)"
   ]
  },
  {
   "cell_type": "code",
   "execution_count": 40,
   "metadata": {},
   "outputs": [],
   "source": [
    "teams_data = [[(\"Italy\", 7), (\"Wales\", 17), (\"Switzerland\", 13), (\"Turkey\", 29)], [(\"Belgium\", 1), (\"Denmark\", 10), (\"Finland\", 54), (\"Russia\", 38)], [(\"Netherlands\", 16), (\"Austria\", 23), (\"Ukraine\", 24), (\"North Macedonia\", 62)], [(\"England\", 4), (\"Croatia\", 14), (\"Czech Republic\", 40), (\"Scotland\", 44)], [(\"Sweden\", 18), (\"Spain\", 6), (\"Slovakia\", 36), (\"Poland\", 21)], [(\"France\", 2), (\"Germany\", 12), (\"Portugal\", 5), (\"Hungary\", 37)]]"
   ]
  },
  {
   "cell_type": "code",
   "execution_count": 41,
   "metadata": {},
   "outputs": [],
   "source": [
    "ratings = sum([[rating for _,rating in group_data] \n",
    "               for group_data in teams_data], [])\n",
    "smallest = min(ratings)\n",
    "largest = max(ratings)\n",
    "teams = [[Team(name, 1 - (rating - smallest) / (largest - smallest))\n",
    "         for name,rating in group_data] for group_data in teams_data]"
   ]
  },
  {
   "cell_type": "code",
   "execution_count": 42,
   "metadata": {},
   "outputs": [
    {
     "name": "stdout",
     "output_type": "stream",
     "text": [
      "[[Italy, Wales, Switzerland, Turkey], [Belgium, Denmark, Finland, Russia], [Netherlands, Austria, Ukraine, North Macedonia], [England, Croatia, Czech Republic, Scotland], [Sweden, Spain, Slovakia, Poland], [France, Germany, Portugal, Hungary]]\n"
     ]
    }
   ],
   "source": [
    "print(teams)"
   ]
  },
  {
   "cell_type": "code",
   "execution_count": 43,
   "metadata": {},
   "outputs": [],
   "source": [
    "after_groups = [sorted(group, reverse=True) for group in teams]\n",
    "third_placers = sorted([g[2] for g in after_groups], reverse=True)[:4]\n",
    "winners = sum([g[:2] for g in after_groups], [])\n",
    "teams16 = winners + third_placers"
   ]
  },
  {
   "cell_type": "code",
   "execution_count": 44,
   "metadata": {},
   "outputs": [
    {
     "name": "stdout",
     "output_type": "stream",
     "text": [
      "[[Italy, Switzerland, Wales, Turkey], [Belgium, Denmark, Russia, Finland], [Netherlands, Austria, Ukraine, North Macedonia], [England, Croatia, Czech Republic, Scotland], [Spain, Sweden, Poland, Slovakia], [France, Portugal, Germany, Hungary]]\n"
     ]
    }
   ],
   "source": [
    "print(after_groups)"
   ]
  },
  {
   "cell_type": "code",
   "execution_count": 45,
   "metadata": {},
   "outputs": [
    {
     "name": "stdout",
     "output_type": "stream",
     "text": [
      "[Germany, Wales, Poland, Ukraine]\n"
     ]
    }
   ],
   "source": [
    "print(third_placers)"
   ]
  },
  {
   "cell_type": "code",
   "execution_count": 46,
   "metadata": {},
   "outputs": [
    {
     "name": "stdout",
     "output_type": "stream",
     "text": [
      "[Italy, Switzerland, Belgium, Denmark, Netherlands, Austria, England, Croatia, Spain, Sweden, France, Portugal]\n"
     ]
    }
   ],
   "source": [
    "print(winners)"
   ]
  },
  {
   "cell_type": "code",
   "execution_count": 47,
   "metadata": {},
   "outputs": [
    {
     "name": "stdout",
     "output_type": "stream",
     "text": [
      "[Italy, Switzerland, Belgium, Denmark, Netherlands, Austria, England, Croatia, Spain, Sweden, France, Portugal, Germany, Wales, Poland, Ukraine]\n"
     ]
    }
   ],
   "source": [
    "print(teams16)"
   ]
  },
  {
   "cell_type": "code",
   "execution_count": 48,
   "metadata": {},
   "outputs": [],
   "source": [
    "rnd.shuffle(teams16)\n",
    "pairs16 = zip(teams16[::2], teams16[1::2])"
   ]
  },
  {
   "cell_type": "code",
   "execution_count": 49,
   "metadata": {},
   "outputs": [],
   "source": [
    "teams8 = [sorted(g, reverse=True)[0] for g in pairs16]\n",
    "pairs8 = zip(teams8[::2], teams8[1::2])\n",
    "teams4 = [sorted(g, reverse=True)[0] for g in pairs8]\n",
    "pairs4 = zip(teams4[::2], teams4[1::2])"
   ]
  },
  {
   "cell_type": "code",
   "execution_count": 50,
   "metadata": {},
   "outputs": [
    {
     "name": "stdout",
     "output_type": "stream",
     "text": [
      "[Italy, England, Denmark, Belgium, Wales, Portugal, France, Switzerland]\n"
     ]
    }
   ],
   "source": [
    "print(teams8)"
   ]
  },
  {
   "cell_type": "code",
   "execution_count": 51,
   "metadata": {},
   "outputs": [
    {
     "name": "stdout",
     "output_type": "stream",
     "text": [
      "[England, Belgium, Portugal, France]\n"
     ]
    }
   ],
   "source": [
    "print(teams4)"
   ]
  },
  {
   "cell_type": "code",
   "execution_count": 52,
   "metadata": {},
   "outputs": [],
   "source": [
    "teams2 = [sorted(g, reverse=True) for g in pairs4]\n",
    "first, second = sorted([teams2[0][0], teams2[1][0]], reverse=True)\n",
    "third, fourth = sorted([teams2[0][1], teams2[1][1]], reverse=True)"
   ]
  },
  {
   "cell_type": "code",
   "execution_count": 53,
   "metadata": {},
   "outputs": [
    {
     "name": "stdout",
     "output_type": "stream",
     "text": [
      "Belgium France\n"
     ]
    }
   ],
   "source": [
    "print(first, second)"
   ]
  },
  {
   "cell_type": "code",
   "execution_count": 54,
   "metadata": {},
   "outputs": [
    {
     "name": "stdout",
     "output_type": "stream",
     "text": [
      "England Portugal\n"
     ]
    }
   ],
   "source": [
    "print(third, fourth)"
   ]
  },
  {
   "cell_type": "code",
   "execution_count": null,
   "metadata": {},
   "outputs": [],
   "source": []
  }
 ],
 "metadata": {
  "kernelspec": {
   "display_name": "Python 3",
   "language": "python",
   "name": "python3"
  },
  "language_info": {
   "codemirror_mode": {
    "name": "ipython",
    "version": 3
   },
   "file_extension": ".py",
   "mimetype": "text/x-python",
   "name": "python",
   "nbconvert_exporter": "python",
   "pygments_lexer": "ipython3",
   "version": "3.7.6"
  }
 },
 "nbformat": 4,
 "nbformat_minor": 4
}
